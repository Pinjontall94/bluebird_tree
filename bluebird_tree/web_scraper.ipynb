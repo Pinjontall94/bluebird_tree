{
 "cells": [
  {
   "cell_type": "code",
   "execution_count": 1,
   "id": "a8f27384",
   "metadata": {},
   "outputs": [],
   "source": [
    "import csv\n",
    "import numpy as np\n",
    "import pandas as pd\n",
    "from getpass import getpass\n",
    "from time import sleep\n",
    "from selenium import webdriver\n",
    "from selenium.webdriver.common.keys import Keys\n",
    "from selenium.webdriver.common.by import By"
   ]
  },
  {
   "cell_type": "code",
   "execution_count": 13,
   "id": "30d8dbe8",
   "metadata": {},
   "outputs": [],
   "source": [
    "# Function of waiting until the present of the element on the web page\n",
    "def waiting_func(by_variable, attribute):\n",
    "    try:\n",
    "        WebDriverWait(driver, 20).until(lambda x: x.find_element(by=by_variable,  value=attribute))\n",
    "    except (NoSuchElementException, TimeoutException):\n",
    "        print('{} {} not found'.format(by_variable, attribute))\n",
    "        exit()"
   ]
  },
  {
   "cell_type": "markdown",
   "id": "cc34165c",
   "metadata": {},
   "source": [
    "## Install and start web driver"
   ]
  },
  {
   "cell_type": "code",
   "execution_count": 2,
   "id": "40fef380",
   "metadata": {},
   "outputs": [],
   "source": [
    "driver = webdriver.Firefox()\n",
    "url = \"https://twitter.com/\" \n",
    "driver.get(url + \"i/flow/login\")"
   ]
  },
  {
   "cell_type": "markdown",
   "id": "a74df86e",
   "metadata": {},
   "source": [
    "## Login to Twitter"
   ]
  },
  {
   "cell_type": "code",
   "execution_count": 3,
   "id": "8214a4f4",
   "metadata": {},
   "outputs": [
    {
     "name": "stdout",
     "output_type": "stream",
     "text": [
      "Twitter Username: Pinjontall\n",
      "Twitter Password: ········\n",
      "username: Pinjontall\n"
     ]
    }
   ],
   "source": [
    "while True:\n",
    "    try:\n",
    "        username = str(input('Twitter Username: '))\n",
    "        break\n",
    "    except TypeError:\n",
    "        print('Could not parse username, try again!')\n",
    "\n",
    "while True:\n",
    "    try:\n",
    "        password = getpass('Twitter Password: ')\n",
    "        break\n",
    "    except TypeError:\n",
    "        print('Could not parse username, try again!')\n",
    "        \n",
    "print('username: {}'.format(username))"
   ]
  },
  {
   "cell_type": "code",
   "execution_count": 4,
   "id": "48529e15",
   "metadata": {},
   "outputs": [],
   "source": [
    "user_xpath = \"/html/body/div/div/div/div[1]/div/div/div/div/div/div/div[2]/div[2]/div/div/div[2]/div[2]/div/div/div/div[5]/label/div/div[2]/div/input\"\n",
    "driver.find_element(By.XPATH, \"//input\").send_keys(username)\n",
    "\n",
    "next_xpath = \"/html/body/div[1]/div/div/div[1]/div/div/div/div/div/div/div[2]/div[2]/div/div/div[2]/div[2]/div/div/div/div[6]/div/span/span\"\n",
    "driver.find_element(By.XPATH, next_xpath).click()"
   ]
  },
  {
   "cell_type": "code",
   "execution_count": 6,
   "id": "6b07b3c7",
   "metadata": {},
   "outputs": [],
   "source": [
    "pass_xpath = \"/html/body/div/div/div/div[1]/div/div/div/div/div/div/div[2]/div[2]/div/div/div[2]/div[2]/div[1]/div/div/div[3]/div/label/div/div[2]/div[1]/input\"\n",
    "driver.find_element(By.XPATH, pass_xpath).send_keys(password)\n",
    "\n",
    "login_xpath = \"/html/body/div/div/div/div[1]/div/div/div/div/div/div/div[2]/div[2]/div/div/div[2]/div[2]/div[2]/div/div[1]/div/div/div/div/span/span\"\n",
    "driver.find_element(By.XPATH, login_xpath).click()"
   ]
  },
  {
   "cell_type": "markdown",
   "id": "25d2aa19",
   "metadata": {},
   "source": [
    "Enter the security number sent to your phone number (if applicable) into the browser window opened by the code, and hit next"
   ]
  },
  {
   "cell_type": "code",
   "execution_count": 27,
   "id": "dde0afa0",
   "metadata": {},
   "outputs": [],
   "source": [
    "# Go to your profile\n",
    "driver.get(url + username + \"/following\")"
   ]
  },
  {
   "cell_type": "code",
   "execution_count": 32,
   "id": "2a5140de",
   "metadata": {},
   "outputs": [],
   "source": [
    "user_cells = driver.find_elements(By.CSS_SELECTOR, \"div[data-testid='UserCell']\")"
   ]
  },
  {
   "cell_type": "code",
   "execution_count": 33,
   "id": "ecf8752e",
   "metadata": {},
   "outputs": [
    {
     "name": "stdout",
     "output_type": "stream",
     "text": [
      "[<selenium.webdriver.remote.webelement.WebElement (session=\"6b7de349-5838-4404-b7d5-31710347130e\", element=\"d3c6f6a1-32c5-4112-8d3f-c08ee95e8be2\")>, <selenium.webdriver.remote.webelement.WebElement (session=\"6b7de349-5838-4404-b7d5-31710347130e\", element=\"7bc58adc-0d7f-4c69-ad7b-c88b1de8d2f8\")>, <selenium.webdriver.remote.webelement.WebElement (session=\"6b7de349-5838-4404-b7d5-31710347130e\", element=\"861370b6-51da-4604-9819-23cf7f17f96e\")>, <selenium.webdriver.remote.webelement.WebElement (session=\"6b7de349-5838-4404-b7d5-31710347130e\", element=\"349523c9-efe3-4fbb-bb7f-14daf522ec37\")>, <selenium.webdriver.remote.webelement.WebElement (session=\"6b7de349-5838-4404-b7d5-31710347130e\", element=\"2d012843-dade-4d9d-bacd-beb70a8513ad\")>, <selenium.webdriver.remote.webelement.WebElement (session=\"6b7de349-5838-4404-b7d5-31710347130e\", element=\"6b39363a-02e5-47f8-935c-7f48da0444cf\")>, <selenium.webdriver.remote.webelement.WebElement (session=\"6b7de349-5838-4404-b7d5-31710347130e\", element=\"55abeeba-c381-4119-9968-8ca205f7017d\")>, <selenium.webdriver.remote.webelement.WebElement (session=\"6b7de349-5838-4404-b7d5-31710347130e\", element=\"a1db101d-5e56-451c-bf30-871c5b62ecf2\")>, <selenium.webdriver.remote.webelement.WebElement (session=\"6b7de349-5838-4404-b7d5-31710347130e\", element=\"82712109-0c7d-4423-b2c3-5960036004c4\")>, <selenium.webdriver.remote.webelement.WebElement (session=\"6b7de349-5838-4404-b7d5-31710347130e\", element=\"65c28c3e-b58a-4382-8046-a5f1658c3929\")>, <selenium.webdriver.remote.webelement.WebElement (session=\"6b7de349-5838-4404-b7d5-31710347130e\", element=\"259de87d-d64a-47e9-991a-3cb501b7ae78\")>, <selenium.webdriver.remote.webelement.WebElement (session=\"6b7de349-5838-4404-b7d5-31710347130e\", element=\"80aadabf-8b5c-4f12-8fbd-eeea3bbacbd5\")>, <selenium.webdriver.remote.webelement.WebElement (session=\"6b7de349-5838-4404-b7d5-31710347130e\", element=\"fd7b3050-f0fa-4422-bdd9-d6660998affb\")>, <selenium.webdriver.remote.webelement.WebElement (session=\"6b7de349-5838-4404-b7d5-31710347130e\", element=\"62657d36-3ae0-4698-a04f-1e8c13287413\")>, <selenium.webdriver.remote.webelement.WebElement (session=\"6b7de349-5838-4404-b7d5-31710347130e\", element=\"9f3a7c67-2070-440b-835a-ccd2dc1bdb45\")>, <selenium.webdriver.remote.webelement.WebElement (session=\"6b7de349-5838-4404-b7d5-31710347130e\", element=\"a07c296a-cd26-4aa6-9868-b84a223ca239\")>, <selenium.webdriver.remote.webelement.WebElement (session=\"6b7de349-5838-4404-b7d5-31710347130e\", element=\"e66b8702-3b21-49bf-91f8-9609444c4b2c\")>, <selenium.webdriver.remote.webelement.WebElement (session=\"6b7de349-5838-4404-b7d5-31710347130e\", element=\"26eaed85-169a-43d7-8660-95692a01f5e4\")>, <selenium.webdriver.remote.webelement.WebElement (session=\"6b7de349-5838-4404-b7d5-31710347130e\", element=\"2d52fea0-f2d6-4563-82e8-15c68e188b55\")>, <selenium.webdriver.remote.webelement.WebElement (session=\"6b7de349-5838-4404-b7d5-31710347130e\", element=\"f24c27f8-bd6b-4103-8b8d-c690ce44bfd7\")>, <selenium.webdriver.remote.webelement.WebElement (session=\"6b7de349-5838-4404-b7d5-31710347130e\", element=\"1fcf35ed-3194-442c-a6af-ae6c673fd2a0\")>, <selenium.webdriver.remote.webelement.WebElement (session=\"6b7de349-5838-4404-b7d5-31710347130e\", element=\"b74511e0-ca65-4eaa-a92a-85daee7a7076\")>, <selenium.webdriver.remote.webelement.WebElement (session=\"6b7de349-5838-4404-b7d5-31710347130e\", element=\"071e9075-1e6b-4f6b-a410-94e642e8b809\")>, <selenium.webdriver.remote.webelement.WebElement (session=\"6b7de349-5838-4404-b7d5-31710347130e\", element=\"03a041cf-f7ca-40e6-b0e7-883372b6d073\")>, <selenium.webdriver.remote.webelement.WebElement (session=\"6b7de349-5838-4404-b7d5-31710347130e\", element=\"61d3102e-3286-44bc-a563-e0a1d4047027\")>, <selenium.webdriver.remote.webelement.WebElement (session=\"6b7de349-5838-4404-b7d5-31710347130e\", element=\"548b8c7c-6dae-43a4-b5b2-46bf007bf7e5\")>, <selenium.webdriver.remote.webelement.WebElement (session=\"6b7de349-5838-4404-b7d5-31710347130e\", element=\"f8bd4c7d-ab8f-43fa-9d1e-b70b582193be\")>, <selenium.webdriver.remote.webelement.WebElement (session=\"6b7de349-5838-4404-b7d5-31710347130e\", element=\"7117450a-3849-4cf6-abd8-5961d4c6462a\")>]\n"
     ]
    }
   ],
   "source": [
    "print(user_cells)"
   ]
  },
  {
   "cell_type": "code",
   "execution_count": null,
   "id": "1b27aba0",
   "metadata": {},
   "outputs": [],
   "source": []
  }
 ],
 "metadata": {
  "kernelspec": {
   "display_name": "Python 3 (ipykernel)",
   "language": "python",
   "name": "python3"
  },
  "language_info": {
   "codemirror_mode": {
    "name": "ipython",
    "version": 3
   },
   "file_extension": ".py",
   "mimetype": "text/x-python",
   "name": "python",
   "nbconvert_exporter": "python",
   "pygments_lexer": "ipython3",
   "version": "3.10.8"
  }
 },
 "nbformat": 4,
 "nbformat_minor": 5
}

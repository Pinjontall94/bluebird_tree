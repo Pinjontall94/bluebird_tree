{
 "cells": [
  {
   "cell_type": "code",
   "execution_count": 1,
   "id": "a8f27384",
   "metadata": {},
   "outputs": [],
   "source": [
    "import csv\n",
    "import numpy as np\n",
    "import pandas as pd\n",
    "from getpass import getpass\n",
    "from time import sleep\n",
    "from selenium import webdriver\n",
    "from selenium.webdriver.common.keys import Keys\n",
    "from selenium.webdriver.common.by import By"
   ]
  },
  {
   "cell_type": "markdown",
   "id": "cc34165c",
   "metadata": {},
   "source": [
    "## Install and start web driver"
   ]
  },
  {
   "cell_type": "code",
   "execution_count": 2,
   "id": "40fef380",
   "metadata": {},
   "outputs": [],
   "source": [
    "driver = webdriver.Firefox()\n",
    "url = \"https://twitter.com/\" \n",
    "driver.get(url + \"i/flow/login\")"
   ]
  },
  {
   "cell_type": "markdown",
   "id": "a74df86e",
   "metadata": {},
   "source": [
    "## Login to Twitter"
   ]
  },
  {
   "cell_type": "code",
   "execution_count": 3,
   "id": "8214a4f4",
   "metadata": {},
   "outputs": [
    {
     "name": "stdout",
     "output_type": "stream",
     "text": [
      "Twitter Username: Pinjontall\n",
      "Twitter Password: ········\n",
      "username: Pinjontall\n"
     ]
    }
   ],
   "source": [
    "while True:\n",
    "    try:\n",
    "        username = str(input('Twitter Username: '))\n",
    "        break\n",
    "    except TypeError:\n",
    "        print('Could not parse username, try again!')\n",
    "\n",
    "while True:\n",
    "    try:\n",
    "        password = getpass('Twitter Password: ')\n",
    "        break\n",
    "    except TypeError:\n",
    "        print('Could not parse username, try again!')\n",
    "        \n",
    "print('username: {}'.format(username))"
   ]
  },
  {
   "cell_type": "code",
   "execution_count": 4,
   "id": "48529e15",
   "metadata": {},
   "outputs": [],
   "source": [
    "user_xpath = \"/html/body/div/div/div/div[1]/div/div/div/div/div/div/div[2]/div[2]/div/div/div[2]/div[2]/div/div/div/div[5]/label/div/div[2]/div/input\"\n",
    "driver.find_element(By.XPATH, \"//input\").send_keys(username)\n",
    "\n",
    "next_xpath = \"/html/body/div[1]/div/div/div[1]/div/div/div/div/div/div/div[2]/div[2]/div/div/div[2]/div[2]/div/div/div/div[6]/div/span/span\"\n",
    "driver.find_element(By.XPATH, next_xpath).click()"
   ]
  },
  {
   "cell_type": "code",
   "execution_count": 6,
   "id": "6b07b3c7",
   "metadata": {},
   "outputs": [],
   "source": [
    "pass_xpath = \"/html/body/div/div/div/div[1]/div/div/div/div/div/div/div[2]/div[2]/div/div/div[2]/div[2]/div[1]/div/div/div[3]/div/label/div/div[2]/div[1]/input\"\n",
    "driver.find_element(By.XPATH, pass_xpath).send_keys(password)\n",
    "\n",
    "login_xpath = \"/html/body/div/div/div/div[1]/div/div/div/div/div/div/div[2]/div[2]/div/div/div[2]/div[2]/div[2]/div/div[1]/div/div/div/div/span/span\"\n",
    "driver.find_element(By.XPATH, login_xpath).click()"
   ]
  },
  {
   "cell_type": "markdown",
   "id": "b0a3cc3e",
   "metadata": {},
   "source": [
    "Enter the security number sent to your phone number (if applicable) into the browser window opened by the code, and hit next"
   ]
  },
  {
   "cell_type": "code",
   "execution_count": 9,
   "id": "f26d780d",
   "metadata": {},
   "outputs": [
    {
     "data": {
      "text/plain": [
       "'https://twitter.com/Pinjontall/follows'"
      ]
     },
     "execution_count": 9,
     "metadata": {},
     "output_type": "execute_result"
    }
   ],
   "source": [
    "driver.get(url + username + \"/following\")"
   ]
  },
  {
   "cell_type": "code",
   "execution_count": null,
   "id": "5e7f949a",
   "metadata": {},
   "outputs": [],
   "source": []
  }
 ],
 "metadata": {
  "kernelspec": {
   "display_name": "Python 3 (ipykernel)",
   "language": "python",
   "name": "python3"
  },
  "language_info": {
   "codemirror_mode": {
    "name": "ipython",
    "version": 3
   },
   "file_extension": ".py",
   "mimetype": "text/x-python",
   "name": "python",
   "nbconvert_exporter": "python",
   "pygments_lexer": "ipython3",
   "version": "3.10.8"
  }
 },
 "nbformat": 4,
 "nbformat_minor": 5
}
